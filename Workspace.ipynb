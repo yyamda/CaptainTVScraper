{
 "cells": [
  {
   "cell_type": "code",
   "execution_count": 14,
   "id": "8398ebd6",
   "metadata": {},
   "outputs": [],
   "source": [
    "%%capture\n",
    "# RUN\n",
    "# This will install all the requirements inside of `requirements.txt` into your current working environment. \n",
    "%pip install -r requirements.txt"
   ]
  },
  {
   "cell_type": "code",
   "execution_count": 15,
   "id": "3e8987d6",
   "metadata": {},
   "outputs": [],
   "source": [
    "# RUN\n",
    "import numpy as np\n",
    "import pandas as pd\n",
    "import re\n",
    "import selenium\n",
    "import threading\n",
    "from selenium.webdriver.support.ui import WebDriverWait\n",
    "from selenium.webdriver.support import expected_conditions as EC\n",
    "from selenium.common.exceptions import TimeoutException, NoSuchElementException, NoSuchWindowException, StaleElementReferenceException\n",
    "import time\n",
    "from bs4 import BeautifulSoup\n",
    "from selenium import webdriver\n",
    "from selenium.webdriver.common.by import By\n",
    "from selenium.webdriver.support import expected_conditions"
   ]
  },
  {
   "cell_type": "code",
   "execution_count": 42,
   "id": "6b42bcf6",
   "metadata": {},
   "outputs": [],
   "source": [
    "def load_data(destination_file):\n",
    "    table = pd.read_csv(destination_file)\n",
    "    twitch_links = table['Twitch Link'] \n",
    "    about_pages = []\n",
    "    for link in twitch_links:\n",
    "        try:\n",
    "            about_pages.append(link + \"/about\")\n",
    "        except TypeError:\n",
    "            # Handle Error \n",
    "            about_pages.append(link)\n",
    "            pass \n",
    "    table['About Pages'] = about_pages \n",
    "    return table "
   ]
  },
  {
   "cell_type": "code",
   "execution_count": 43,
   "id": "e05f1e4a",
   "metadata": {},
   "outputs": [],
   "source": [
    "table = load_data('scrub_list_example.csv')\n",
    "small_table = table.copy().loc[0:5]"
   ]
  },
  {
   "cell_type": "code",
   "execution_count": 44,
   "id": "5db4cad3",
   "metadata": {},
   "outputs": [
    {
     "data": {
      "text/plain": [
       "0    https://twitch.tv/AestheticPowerTV/about\n",
       "1              https://twitch.tv/sowhan/about\n",
       "2       https://twitch.tv/3rdgreatuncle/about\n",
       "3       https://twitch.tv/qiaomiplaying/about\n",
       "4            https://twitch.tv/karyudok/about\n",
       "Name: About Pages, dtype: object"
      ]
     },
     "execution_count": 44,
     "metadata": {},
     "output_type": "execute_result"
    }
   ],
   "source": [
    "twitch_links = small_table[\"About Pages\"]\n",
    "twitch_links = twitch_links[0:5]\n",
    "twitch_links"
   ]
  },
  {
   "cell_type": "code",
   "execution_count": 68,
   "id": "cfc22f03",
   "metadata": {},
   "outputs": [],
   "source": [
    "def find(driver):\n",
    "    element = driver.find_elements(by=By.XPATH, value=\"//a[@href]\")\n",
    "    if element:\n",
    "        printer(elements)\n",
    "        return element\n",
    "    else:\n",
    "        return False\n",
    "    \n",
    "def get_link(element):\n",
    "    return element.get_attribute(\"href\")\n",
    "\n",
    "def printer(elements):\n",
    "    for element in elements:\n",
    "        link = element.get_attribute(\"href\")\n",
    "        print(link)"
   ]
  },
  {
   "cell_type": "code",
   "execution_count": 72,
   "id": "cf62ed24",
   "metadata": {},
   "outputs": [
    {
     "name": "stderr",
     "output_type": "stream",
     "text": [
      "/var/folders/8h/zcvnk3m157q9bs_yhf9lxx5w0000gn/T/ipykernel_89837/961688649.py:1: DeprecationWarning: executable_path has been deprecated, please pass in a Service object\n",
      "  driver = webdriver.Chrome('/Users/yyamada/downloads/chromedriver')\n"
     ]
    },
    {
     "ename": "AttributeError",
     "evalue": "'WebDriver' object has no attribute 'sleep'",
     "output_type": "error",
     "traceback": [
      "\u001b[0;31m---------------------------------------------------------------------------\u001b[0m",
      "\u001b[0;31mAttributeError\u001b[0m                            Traceback (most recent call last)",
      "Input \u001b[0;32mIn [72]\u001b[0m, in \u001b[0;36m<cell line: 3>\u001b[0;34m()\u001b[0m\n\u001b[1;32m      5\u001b[0m driver\u001b[38;5;241m.\u001b[39mget(target_url)\n\u001b[1;32m      6\u001b[0m elements \u001b[38;5;241m=\u001b[39m driver\u001b[38;5;241m.\u001b[39mfind_elements(by\u001b[38;5;241m=\u001b[39mBy\u001b[38;5;241m.\u001b[39mXPATH, value\u001b[38;5;241m=\u001b[39m\u001b[38;5;124m\"\u001b[39m\u001b[38;5;124m//a[@href]\u001b[39m\u001b[38;5;124m\"\u001b[39m)\n\u001b[0;32m----> 7\u001b[0m \u001b[43mdriver\u001b[49m\u001b[38;5;241;43m.\u001b[39;49m\u001b[43msleep\u001b[49m(\u001b[38;5;241m10\u001b[39m)\n\u001b[1;32m      8\u001b[0m printer(elements)\n",
      "\u001b[0;31mAttributeError\u001b[0m: 'WebDriver' object has no attribute 'sleep'"
     ]
    }
   ],
   "source": [
    "driver = webdriver.Chrome('/Users/yyamada/downloads/chromedriver')\n",
    "fail_count = 0\n",
    "for link in twitch_links:\n",
    "    target_url = link\n",
    "    driver.get(target_url)\n",
    "    elements = driver.find_elements(by=By.XPATH, value=\"//a[@href]\")\n",
    "    driver.sleep(10)\n",
    "    printer(elements)\n",
    "\n",
    "\n"
   ]
  },
  {
   "cell_type": "code",
   "execution_count": 57,
   "id": "5666fe95",
   "metadata": {},
   "outputs": [],
   "source": [
    "def link_finder(element):\n",
    "    return element.get_attribute(\"href\")"
   ]
  },
  {
   "cell_type": "code",
   "execution_count": 26,
   "id": "6fff97a5",
   "metadata": {},
   "outputs": [
    {
     "ename": "TimeoutException",
     "evalue": "Message: \nStacktrace:\n0   chromedriver                        0x0000000109987ee9 chromedriver + 5013225\n1   chromedriver                        0x00000001099131d3 chromedriver + 4534739\n2   chromedriver                        0x00000001094e9a68 chromedriver + 170600\n3   chromedriver                        0x000000010951e152 chromedriver + 385362\n4   chromedriver                        0x000000010951e311 chromedriver + 385809\n5   chromedriver                        0x0000000109550324 chromedriver + 590628\n6   chromedriver                        0x000000010953b80d chromedriver + 505869\n7   chromedriver                        0x000000010954e074 chromedriver + 581748\n8   chromedriver                        0x000000010953b6d3 chromedriver + 505555\n9   chromedriver                        0x000000010951176e chromedriver + 333678\n10  chromedriver                        0x0000000109512745 chromedriver + 337733\n11  chromedriver                        0x0000000109943efe chromedriver + 4734718\n12  chromedriver                        0x000000010995da19 chromedriver + 4839961\n13  chromedriver                        0x00000001099631c8 chromedriver + 4862408\n14  chromedriver                        0x000000010995e3aa chromedriver + 4842410\n15  chromedriver                        0x0000000109938a01 chromedriver + 4688385\n16  chromedriver                        0x0000000109979538 chromedriver + 4953400\n17  chromedriver                        0x00000001099796c1 chromedriver + 4953793\n18  chromedriver                        0x000000010998f225 chromedriver + 5042725\n19  libsystem_pthread.dylib             0x00007ff80891c4f4 _pthread_start + 125\n20  libsystem_pthread.dylib             0x00007ff80891800f thread_start + 15\n",
     "output_type": "error",
     "traceback": [
      "\u001b[0;31m---------------------------------------------------------------------------\u001b[0m",
      "\u001b[0;31mTimeoutException\u001b[0m                          Traceback (most recent call last)",
      "Input \u001b[0;32mIn [26]\u001b[0m, in \u001b[0;36m<cell line: 3>\u001b[0;34m()\u001b[0m\n\u001b[1;32m      1\u001b[0m ignored_exceptions\u001b[38;5;241m=\u001b[39m(NoSuchElementException,StaleElementReferenceException,)\n\u001b[0;32m----> 3\u001b[0m element \u001b[38;5;241m=\u001b[39m \u001b[43mWebDriverWait\u001b[49m\u001b[43m(\u001b[49m\u001b[43mdriver\u001b[49m\u001b[43m,\u001b[49m\u001b[43m \u001b[49m\u001b[38;5;241;43m5\u001b[39;49m\u001b[43m \u001b[49m\u001b[43m,\u001b[49m\u001b[43mignored_exceptions\u001b[49m\u001b[38;5;241;43m=\u001b[39;49m\u001b[43mignored_exceptions\u001b[49m\u001b[43m)\u001b[49m\u001b[38;5;241;43m.\u001b[39;49m\u001b[43muntil\u001b[49m\u001b[43m(\u001b[49m\u001b[43mexpected_conditions\u001b[49m\u001b[38;5;241;43m.\u001b[39;49m\u001b[43mpresence_of_element_located\u001b[49m\u001b[43m(\u001b[49m\u001b[43m(\u001b[49m\u001b[43mBy\u001b[49m\u001b[38;5;241;43m.\u001b[39;49m\u001b[43mID\u001b[49m\u001b[43m,\u001b[49m\u001b[43m \u001b[49m\u001b[38;5;124;43m\"\u001b[39;49m\u001b[38;5;124;43mhref\u001b[39;49m\u001b[38;5;124;43m\"\u001b[39;49m\u001b[43m)\u001b[49m\u001b[43m)\u001b[49m\u001b[43m)\u001b[49m\n",
      "File \u001b[0;32m~/Library/Python/3.9/lib/python/site-packages/selenium/webdriver/support/wait.py:89\u001b[0m, in \u001b[0;36mWebDriverWait.until\u001b[0;34m(self, method, message)\u001b[0m\n\u001b[1;32m     87\u001b[0m     \u001b[38;5;28;01mif\u001b[39;00m time\u001b[38;5;241m.\u001b[39mtime() \u001b[38;5;241m>\u001b[39m end_time:\n\u001b[1;32m     88\u001b[0m         \u001b[38;5;28;01mbreak\u001b[39;00m\n\u001b[0;32m---> 89\u001b[0m \u001b[38;5;28;01mraise\u001b[39;00m TimeoutException(message, screen, stacktrace)\n",
      "\u001b[0;31mTimeoutException\u001b[0m: Message: \nStacktrace:\n0   chromedriver                        0x0000000109987ee9 chromedriver + 5013225\n1   chromedriver                        0x00000001099131d3 chromedriver + 4534739\n2   chromedriver                        0x00000001094e9a68 chromedriver + 170600\n3   chromedriver                        0x000000010951e152 chromedriver + 385362\n4   chromedriver                        0x000000010951e311 chromedriver + 385809\n5   chromedriver                        0x0000000109550324 chromedriver + 590628\n6   chromedriver                        0x000000010953b80d chromedriver + 505869\n7   chromedriver                        0x000000010954e074 chromedriver + 581748\n8   chromedriver                        0x000000010953b6d3 chromedriver + 505555\n9   chromedriver                        0x000000010951176e chromedriver + 333678\n10  chromedriver                        0x0000000109512745 chromedriver + 337733\n11  chromedriver                        0x0000000109943efe chromedriver + 4734718\n12  chromedriver                        0x000000010995da19 chromedriver + 4839961\n13  chromedriver                        0x00000001099631c8 chromedriver + 4862408\n14  chromedriver                        0x000000010995e3aa chromedriver + 4842410\n15  chromedriver                        0x0000000109938a01 chromedriver + 4688385\n16  chromedriver                        0x0000000109979538 chromedriver + 4953400\n17  chromedriver                        0x00000001099796c1 chromedriver + 4953793\n18  chromedriver                        0x000000010998f225 chromedriver + 5042725\n19  libsystem_pthread.dylib             0x00007ff80891c4f4 _pthread_start + 125\n20  libsystem_pthread.dylib             0x00007ff80891800f thread_start + 15\n"
     ]
    }
   ],
   "source": [
    "ignored_exceptions=(NoSuchElementException,StaleElementReferenceException,)\n",
    "\n",
    "elements = WebDriverWait(driver, 5 ,ignored_exceptions=ignored_exceptions).until(expected_conditions.presence_of_element_located((By.ID, \"href\")))\n",
    "\n",
    "\n",
    "\n"
   ]
  },
  {
   "cell_type": "code",
   "execution_count": null,
   "id": "bcc40da2",
   "metadata": {},
   "outputs": [],
   "source": []
  }
 ],
 "metadata": {
  "kernelspec": {
   "display_name": "Python 3 (ipykernel)",
   "language": "python",
   "name": "python3"
  },
  "language_info": {
   "codemirror_mode": {
    "name": "ipython",
    "version": 3
   },
   "file_extension": ".py",
   "mimetype": "text/x-python",
   "name": "python",
   "nbconvert_exporter": "python",
   "pygments_lexer": "ipython3",
   "version": "3.9.10"
  }
 },
 "nbformat": 4,
 "nbformat_minor": 5
}
